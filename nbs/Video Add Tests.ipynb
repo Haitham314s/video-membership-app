{
 "cells": [
  {
   "cell_type": "code",
   "execution_count": 1,
   "id": "32b7f652",
   "metadata": {},
   "outputs": [
    {
     "name": "stdout",
     "output_type": "stream",
     "text": [
      "C:\\Users\\hp\\dev\\video-membership-app\n"
     ]
    }
   ],
   "source": [
    "%cd .."
   ]
  },
  {
   "cell_type": "code",
   "execution_count": 2,
   "id": "7df3d231",
   "metadata": {},
   "outputs": [],
   "source": [
    "from app import db\n",
    "from app.users.models import User\n",
    "from app.videos.models import Video\n",
    "from cassandra.cqlengine.management import sync_table"
   ]
  },
  {
   "cell_type": "code",
   "execution_count": 3,
   "id": "2ea8bb03",
   "metadata": {},
   "outputs": [],
   "source": [
    "db.get_session()\n",
    "sync_table(User)\n",
    "sync_table(Video)"
   ]
  },
  {
   "cell_type": "code",
   "execution_count": 4,
   "id": "82d43396",
   "metadata": {},
   "outputs": [],
   "source": [
    "url = \"https://www.youtube.com/watch?v=nNpvWBuTfrc\""
   ]
  },
  {
   "cell_type": "code",
   "execution_count": 5,
   "id": "81afac7b",
   "metadata": {},
   "outputs": [
    {
     "data": {
      "text/plain": [
       "User(email=user1@gmail.com, user_id=fd5b5178-e0e1-11ed-8672-c46516f58b27)"
      ]
     },
     "execution_count": 5,
     "metadata": {},
     "output_type": "execute_result"
    }
   ],
   "source": [
    "abc = User.objects.get(email=\"user1@gmail.com\")\n",
    "abc"
   ]
  },
  {
   "cell_type": "code",
   "execution_count": 6,
   "id": "4e6b55c5",
   "metadata": {
    "scrolled": true
   },
   "outputs": [],
   "source": [
    "obj = Video.add_video(url, user_id=abc.user_id)"
   ]
  },
  {
   "cell_type": "code",
   "execution_count": 7,
   "id": "ece5eb20",
   "metadata": {},
   "outputs": [
    {
     "data": {
      "text/plain": [
       "Video(host_id=nNpvWBuTfrc, host_service=youtube)"
      ]
     },
     "execution_count": 7,
     "metadata": {},
     "output_type": "execute_result"
    }
   ],
   "source": [
    "obj"
   ]
  },
  {
   "cell_type": "code",
   "execution_count": 9,
   "id": "ef21fdf3",
   "metadata": {},
   "outputs": [],
   "source": [
    "url = \"https://www.youtube.com/watch?v=9ix7TUGVYIo\"\n",
    "obj = Video.add_video(url, user_id=abc.user_id)"
   ]
  },
  {
   "cell_type": "code",
   "execution_count": 12,
   "id": "72d2757f",
   "metadata": {},
   "outputs": [
    {
     "data": {
      "text/plain": [
       "'9ix7TUGVYIo'"
      ]
     },
     "execution_count": 12,
     "metadata": {},
     "output_type": "execute_result"
    }
   ],
   "source": [
    "obj.host_id"
   ]
  },
  {
   "cell_type": "code",
   "execution_count": null,
   "id": "9bafe927",
   "metadata": {},
   "outputs": [],
   "source": []
  }
 ],
 "metadata": {
  "kernelspec": {
   "display_name": "Python 3 (ipykernel)",
   "language": "python",
   "name": "python3"
  },
  "language_info": {
   "codemirror_mode": {
    "name": "ipython",
    "version": 3
   },
   "file_extension": ".py",
   "mimetype": "text/x-python",
   "name": "python",
   "nbconvert_exporter": "python",
   "pygments_lexer": "ipython3",
   "version": "3.11.1"
  }
 },
 "nbformat": 4,
 "nbformat_minor": 5
}
