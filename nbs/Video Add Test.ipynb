{
 "cells": [
  {
   "cell_type": "code",
   "execution_count": 1,
   "id": "32b7f652",
   "metadata": {},
   "outputs": [
    {
     "name": "stdout",
     "output_type": "stream",
     "text": [
      "C:\\Users\\hp\\dev\\video-membership-app\n"
     ]
    }
   ],
   "source": [
    "%cd .."
   ]
  },
  {
   "cell_type": "code",
   "execution_count": 2,
   "id": "7df3d231",
   "metadata": {},
   "outputs": [],
   "source": [
    "from app import db\n",
    "from app.users.models import User\n",
    "from app.videos.models import Video\n",
    "from cassandra.cqlengine.management import sync_table"
   ]
  },
  {
   "cell_type": "code",
   "execution_count": 3,
   "id": "2ea8bb03",
   "metadata": {},
   "outputs": [],
   "source": [
    "db.get_session()\n",
    "sync_table(User)\n",
    "sync_table(Video)"
   ]
  },
  {
   "cell_type": "code",
   "execution_count": 4,
   "id": "82d43396",
   "metadata": {},
   "outputs": [],
   "source": [
    "url = \"https://www.youtube.com/watch?v=nNpvWBuTfrc\""
   ]
  },
  {
   "cell_type": "code",
   "execution_count": 5,
   "id": "bd89d44b",
   "metadata": {},
   "outputs": [
    {
     "data": {
      "text/plain": [
       "User(email=user1@gmail.com, user_id=fd5b5178-e0e1-11ed-8672-c46516f58b27)"
      ]
     },
     "execution_count": 5,
     "metadata": {},
     "output_type": "execute_result"
    }
   ],
   "source": [
    "abc = User.objects.get(email=\"user1@gmail.com\")\n",
    "abc"
   ]
  },
  {
   "cell_type": "code",
   "execution_count": 6,
   "id": "4e6b55c5",
   "metadata": {
    "scrolled": true
   },
   "outputs": [],
   "source": [
    "obj = Video.add_video(url, user_id=abc.user_id)"
   ]
  },
  {
   "cell_type": "code",
   "execution_count": 7,
   "id": "ece5eb20",
   "metadata": {},
   "outputs": [
    {
     "data": {
      "text/plain": [
       "Video(host_id=nNpvWBuTfrc, host_service=youtube)"
      ]
     },
     "execution_count": 7,
     "metadata": {},
     "output_type": "execute_result"
    }
   ],
   "source": [
    "obj"
   ]
  },
  {
   "cell_type": "code",
   "execution_count": 8,
   "id": "68200444",
   "metadata": {},
   "outputs": [
    {
     "ename": "Exception",
     "evalue": "Invalid youtube video url",
     "output_type": "error",
     "traceback": [
      "\u001b[1;31m--------------------------------------------------------\u001b[0m",
      "\u001b[1;31mException\u001b[0m              Traceback (most recent call last)",
      "Cell \u001b[1;32mIn[8], line 2\u001b[0m\n\u001b[0;32m      1\u001b[0m url \u001b[38;5;241m=\u001b[39m \u001b[38;5;124m\"\u001b[39m\u001b[38;5;124mhttps://www.youtu.be/nNpvWBuTfrc\u001b[39m\u001b[38;5;124m\"\u001b[39m\n\u001b[1;32m----> 2\u001b[0m obj \u001b[38;5;241m=\u001b[39m \u001b[43mVideo\u001b[49m\u001b[38;5;241;43m.\u001b[39;49m\u001b[43madd_video\u001b[49m\u001b[43m(\u001b[49m\u001b[43murl\u001b[49m\u001b[43m,\u001b[49m\u001b[43m \u001b[49m\u001b[43muser_id\u001b[49m\u001b[38;5;241;43m=\u001b[39;49m\u001b[43mabc\u001b[49m\u001b[38;5;241;43m.\u001b[39;49m\u001b[43muser_id\u001b[49m\u001b[43m)\u001b[49m\n",
      "File \u001b[1;32m~\\dev\\video-membership-app\\app\\videos\\models.py:31\u001b[0m, in \u001b[0;36mVideo.add_video\u001b[1;34m(url, user_id)\u001b[0m\n\u001b[0;32m     29\u001b[0m host_id \u001b[38;5;241m=\u001b[39m extract_video_id(url)\n\u001b[0;32m     30\u001b[0m \u001b[38;5;28;01mif\u001b[39;00m host_id \u001b[38;5;129;01mis\u001b[39;00m \u001b[38;5;28;01mNone\u001b[39;00m:\n\u001b[1;32m---> 31\u001b[0m     \u001b[38;5;28;01mraise\u001b[39;00m \u001b[38;5;167;01mException\u001b[39;00m(\u001b[38;5;124m\"\u001b[39m\u001b[38;5;124mInvalid youtube video url\u001b[39m\u001b[38;5;124m\"\u001b[39m)\n\u001b[0;32m     33\u001b[0m user_exists \u001b[38;5;241m=\u001b[39m User\u001b[38;5;241m.\u001b[39mcheck_exists(user_id)\n\u001b[0;32m     34\u001b[0m \u001b[38;5;28;01mif\u001b[39;00m user_exists \u001b[38;5;129;01mis\u001b[39;00m \u001b[38;5;28;01mNone\u001b[39;00m:\n",
      "\u001b[1;31mException\u001b[0m: Invalid youtube video url"
     ]
    }
   ],
   "source": [
    "url = \"https://www.youtube.com/watch?v=nNpvWBuTfrc\"\n",
    "obj = Video.add_video(url, user_id=abc.user_id)"
   ]
  },
  {
   "cell_type": "code",
   "execution_count": null,
   "id": "77cdf041",
   "metadata": {},
   "outputs": [],
   "source": [
    "obj.hot"
   ]
  }
 ],
 "metadata": {
  "kernelspec": {
   "display_name": "Python 3 (ipykernel)",
   "language": "python",
   "name": "python3"
  },
  "language_info": {
   "codemirror_mode": {
    "name": "ipython",
    "version": 3
   },
   "file_extension": ".py",
   "mimetype": "text/x-python",
   "name": "python",
   "nbconvert_exporter": "python",
   "pygments_lexer": "ipython3",
   "version": "3.11.1"
  }
 },
 "nbformat": 4,
 "nbformat_minor": 5
}
