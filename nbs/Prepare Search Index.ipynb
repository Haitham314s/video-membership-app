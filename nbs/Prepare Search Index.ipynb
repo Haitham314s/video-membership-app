{
 "cells": [
  {
   "cell_type": "code",
   "execution_count": 1,
   "id": "32b7f652",
   "metadata": {},
   "outputs": [
    {
     "name": "stdout",
     "output_type": "stream",
     "text": [
      "C:\\Users\\hp\\dev\\video-membership-app\n"
     ]
    }
   ],
   "source": [
    "%cd .."
   ]
  },
  {
   "cell_type": "code",
   "execution_count": 2,
   "id": "7df3d231",
   "metadata": {},
   "outputs": [],
   "source": [
    "from app import db\n",
    "from app.playlists.models import Playlist\n",
    "from app.users.models import User\n",
    "from app.videos.models import Video\n",
    "from cassandra.cqlengine.management import sync_table"
   ]
  },
  {
   "cell_type": "code",
   "execution_count": 3,
   "id": "2ea8bb03",
   "metadata": {},
   "outputs": [],
   "source": [
    "db.get_session()\n",
    "sync_table(User)\n",
    "sync_table(Video)\n",
    "sync_table(Playlist)"
   ]
  },
  {
   "cell_type": "code",
   "execution_count": 26,
   "id": "e95a2199",
   "metadata": {},
   "outputs": [],
   "source": [
    "import uuid\n",
    "import json\n",
    "from pydantic import BaseModel, Field, validator, root_validator\n",
    "from typing import Optional"
   ]
  },
  {
   "cell_type": "code",
   "execution_count": 5,
   "id": "6b0217c6",
   "metadata": {
    "scrolled": true
   },
   "outputs": [
    {
     "data": {
      "text/plain": [
       "{'host_id': 'X3qUfOB3x8Q',\n",
       " 'db_id': UUID('f299acc5-e6bd-11ed-bddb-c46516f58b27'),\n",
       " 'host_service': 'youtube',\n",
       " 'title': 'VS Code Day 2023',\n",
       " 'url': 'https://www.youtube.com/watch?v=X3qUfOB3x8Q',\n",
       " 'user_id': UUID('fd5b5178-e0e1-11ed-8672-c46516f58b27')}"
      ]
     },
     "execution_count": 5,
     "metadata": {},
     "output_type": "execute_result"
    }
   ],
   "source": [
    "video_obj = dict(Video.objects.first())\n",
    "video_obj"
   ]
  },
  {
   "cell_type": "code",
   "execution_count": 36,
   "id": "a6903e05",
   "metadata": {},
   "outputs": [],
   "source": [
    "class VideoIndexSchema(BaseModel):\n",
    "    objectID: str = Field(alias=\"host_id\")\n",
    "    objectType: str = \"Video\"\n",
    "    title: Optional[str]\n",
    "    path: str = Field(alias=\"host_id\")\n",
    "        \n",
    "    @validator(\"path\")\n",
    "    def set_path(cls, v, values, **kwargs):\n",
    "        return f\"/videos/{v}\""
   ]
  },
  {
   "cell_type": "code",
   "execution_count": 18,
   "id": "9f307a3e",
   "metadata": {},
   "outputs": [
    {
     "data": {
      "text/plain": [
       "{'objectID': 'X3qUfOB3x8Q',\n",
       " 'title': 'VS Code Day 2023',\n",
       " 'path': '/videos/X3qUfOB3x8Q'}"
      ]
     },
     "execution_count": 18,
     "metadata": {},
     "output_type": "execute_result"
    }
   ],
   "source": [
    "VideoIndexSchema(**video_obj).dict()"
   ]
  },
  {
   "cell_type": "code",
   "execution_count": 22,
   "id": "989339bc",
   "metadata": {},
   "outputs": [
    {
     "data": {
      "text/plain": [
       "{'db_id': UUID('31780f9f-e744-11ed-91fb-c46516f58b27'),\n",
       " 'user_id': None,\n",
       " 'updated': datetime.datetime(2023, 5, 6, 13, 29, 6, 185000),\n",
       " 'host_ids': ['9C85o8jIgUU', '786VV6f_abM', '-_pgcFQ0l64', '786VV6f_abM'],\n",
       " 'title': 'Hello Video'}"
      ]
     },
     "execution_count": 22,
     "metadata": {},
     "output_type": "execute_result"
    }
   ],
   "source": [
    "playlist_obj = dict(Playlist.objects.first())\n",
    "playlist_obj"
   ]
  },
  {
   "cell_type": "code",
   "execution_count": 37,
   "id": "a363cc13",
   "metadata": {},
   "outputs": [],
   "source": [
    "class PlaylistIndexSchema(BaseModel):\n",
    "    objectID: uuid.UUID = Field(alias=\"db_id\")\n",
    "    objectType: str = \"Playlist\"\n",
    "    title: Optional[str]\n",
    "    path: uuid.UUID = Field(default=\"/\")\n",
    "        \n",
    "#     @validator(\"path\")\n",
    "#     def set_path(cls, v, values, **kwargs):\n",
    "#         return f\"/playlists/{v}\"\n",
    "    \n",
    "    @root_validator\n",
    "    def set_defaults(cls, values):\n",
    "        objectID = values.get(\"objectID\")\n",
    "        values[\"objectID\"] = str(objectID)\n",
    "        values[\"path\"] = f\"/playlists/{objectID}\"\n",
    "        return values"
   ]
  },
  {
   "cell_type": "code",
   "execution_count": 30,
   "id": "abe7e97c",
   "metadata": {
    "scrolled": true
   },
   "outputs": [
    {
     "name": "stdout",
     "output_type": "stream",
     "text": [
      "{'objectID': UUID('31780f9f-e744-11ed-91fb-c46516f58b27'), 'title': 'Hello Video', 'path': '/'}\n"
     ]
    },
    {
     "data": {
      "text/plain": [
       "{'objectID': '31780f9f-e744-11ed-91fb-c46516f58b27',\n",
       " 'title': 'Hello Video',\n",
       " 'path': '/playlists/31780f9f-e744-11ed-91fb-c46516f58b27'}"
      ]
     },
     "execution_count": 30,
     "metadata": {},
     "output_type": "execute_result"
    }
   ],
   "source": [
    "PlaylistIndexSchema(**playlist_obj).dict()"
   ]
  },
  {
   "cell_type": "code",
   "execution_count": 28,
   "id": "3f5ab900",
   "metadata": {},
   "outputs": [
    {
     "name": "stdout",
     "output_type": "stream",
     "text": [
      "{'objectID': UUID('31780f9f-e744-11ed-91fb-c46516f58b27'), 'title': 'Hello Video', 'path': '/playlists/31780f9f-e744-11ed-91fb-c46516f58b27'}\n"
     ]
    },
    {
     "data": {
      "text/plain": [
       "{'objectID': '31780f9f-e744-11ed-91fb-c46516f58b27',\n",
       " 'title': 'Hello Video',\n",
       " 'path': '/playlists//playlists/31780f9f-e744-11ed-91fb-c46516f58b27'}"
      ]
     },
     "execution_count": 28,
     "metadata": {},
     "output_type": "execute_result"
    }
   ],
   "source": [
    "json.loads(PlaylistIndexSchema(**playlist_obj).json())"
   ]
  },
  {
   "cell_type": "code",
   "execution_count": 38,
   "id": "bba0d50c",
   "metadata": {},
   "outputs": [
    {
     "data": {
      "text/plain": [
       "[{'objectID': 'X3qUfOB3x8Q',\n",
       "  'objectType': 'Video',\n",
       "  'title': 'VS Code Day 2023',\n",
       "  'path': '/videos/X3qUfOB3x8Q'},\n",
       " {'objectID': 'RDE6Uz73A7g',\n",
       "  'objectType': 'Video',\n",
       "  'title': 'The Hunger Games: The Ballad of Songbirds & Snakes (2023) Official Trailer',\n",
       "  'path': '/videos/RDE6Uz73A7g'},\n",
       " {'objectID': '9ix7TUGVYIo',\n",
       "  'objectType': 'Video',\n",
       "  'title': 'The Matrix Resurrections – Official Trailer 1',\n",
       "  'path': '/videos/9ix7TUGVYIo'},\n",
       " {'objectID': 'itnqEauWQZM',\n",
       "  'objectType': 'Video',\n",
       "  'title': 'Transformers: Rise of the Beasts | Official Trailer (2023 Movie)',\n",
       "  'path': '/videos/itnqEauWQZM'},\n",
       " {'objectID': '9C85o8jIgUU',\n",
       "  'objectType': 'Video',\n",
       "  'title': '#3 Try REACTJS Tutorial - Display Json Data',\n",
       "  'path': '/videos/9C85o8jIgUU'},\n",
       " {'objectID': 'nNpvWBuTfrc',\n",
       "  'objectType': 'Video',\n",
       "  'title': 'The Matrix Resurrections – Official Trailer 2',\n",
       "  'path': '/videos/nNpvWBuTfrc'},\n",
       " {'objectID': 'r51cYVZWKdY',\n",
       "  'objectType': 'Video',\n",
       "  'title': 'The Flash - Official Trailer 2',\n",
       "  'path': '/videos/r51cYVZWKdY'},\n",
       " {'objectID': '786VV6f_abM',\n",
       "  'objectType': 'Video',\n",
       "  'title': 'https://www.youtube.com/watch?v=786VV6f_abM',\n",
       "  'path': '/videos/786VV6f_abM'},\n",
       " {'objectID': '-_pgcFQ0l64',\n",
       "  'objectType': 'Video',\n",
       "  'title': '#1 Try REACTJS Tutorial - Getting Started',\n",
       "  'path': '/videos/-_pgcFQ0l64'}]"
      ]
     },
     "execution_count": 38,
     "metadata": {},
     "output_type": "execute_result"
    }
   ],
   "source": [
    "video_q = [dict(x) for x in Video.objects.all()]\n",
    "videos_dataset = [VideoIndexSchema(**obj).dict() for obj in video_q]\n",
    "videos_dataset"
   ]
  },
  {
   "cell_type": "code",
   "execution_count": 39,
   "id": "1f04ee45",
   "metadata": {
    "scrolled": true
   },
   "outputs": [
    {
     "name": "stdout",
     "output_type": "stream",
     "text": [
      "{'objectID': UUID('f299acc5-e6bd-11ed-bddb-c46516f58b27'), 'objectType': 'Playlist', 'title': 'VS Code Day 2023', 'path': '/'}\n",
      "{'objectID': UUID('9e3f974f-e6ab-11ed-b591-c46516f58b27'), 'objectType': 'Playlist', 'title': 'The Hunger Games: The Ballad of Songbirds & Snakes (2023) Official Trailer', 'path': '/'}\n",
      "{'objectID': UUID('20eba022-e669-11ed-9ab3-010101010000'), 'objectType': 'Playlist', 'title': 'The Matrix Resurrections – Official Trailer 1', 'path': '/'}\n",
      "{'objectID': UUID('9538e354-e6ab-11ed-bb2f-c46516f58b27'), 'objectType': 'Playlist', 'title': 'Transformers: Rise of the Beasts | Official Trailer (2023 Movie)', 'path': '/'}\n",
      "{'objectID': UUID('47386fb1-eaa4-11ed-af23-c46516f58b27'), 'objectType': 'Playlist', 'title': '#3 Try REACTJS Tutorial - Display Json Data', 'path': '/'}\n",
      "{'objectID': UUID('def30719-e668-11ed-9049-010101010000'), 'objectType': 'Playlist', 'title': 'The Matrix Resurrections – Official Trailer 2', 'path': '/'}\n",
      "{'objectID': UUID('a51d8059-e6ab-11ed-94c5-c46516f58b27'), 'objectType': 'Playlist', 'title': 'The Flash - Official Trailer 2', 'path': '/'}\n",
      "{'objectID': UUID('e80c3445-ec11-11ed-8516-d43b04bfac83'), 'objectType': 'Playlist', 'title': 'https://www.youtube.com/watch?v=786VV6f_abM', 'path': '/'}\n",
      "{'objectID': UUID('f259d935-ec11-11ed-aa4a-d43b04bfac83'), 'objectType': 'Playlist', 'title': '#1 Try REACTJS Tutorial - Getting Started', 'path': '/'}\n"
     ]
    },
    {
     "data": {
      "text/plain": [
       "[{'objectID': 'f299acc5-e6bd-11ed-bddb-c46516f58b27',\n",
       "  'objectType': 'Playlist',\n",
       "  'title': 'VS Code Day 2023',\n",
       "  'path': '/playlists/f299acc5-e6bd-11ed-bddb-c46516f58b27'},\n",
       " {'objectID': '9e3f974f-e6ab-11ed-b591-c46516f58b27',\n",
       "  'objectType': 'Playlist',\n",
       "  'title': 'The Hunger Games: The Ballad of Songbirds & Snakes (2023) Official Trailer',\n",
       "  'path': '/playlists/9e3f974f-e6ab-11ed-b591-c46516f58b27'},\n",
       " {'objectID': '20eba022-e669-11ed-9ab3-010101010000',\n",
       "  'objectType': 'Playlist',\n",
       "  'title': 'The Matrix Resurrections – Official Trailer 1',\n",
       "  'path': '/playlists/20eba022-e669-11ed-9ab3-010101010000'},\n",
       " {'objectID': '9538e354-e6ab-11ed-bb2f-c46516f58b27',\n",
       "  'objectType': 'Playlist',\n",
       "  'title': 'Transformers: Rise of the Beasts | Official Trailer (2023 Movie)',\n",
       "  'path': '/playlists/9538e354-e6ab-11ed-bb2f-c46516f58b27'},\n",
       " {'objectID': '47386fb1-eaa4-11ed-af23-c46516f58b27',\n",
       "  'objectType': 'Playlist',\n",
       "  'title': '#3 Try REACTJS Tutorial - Display Json Data',\n",
       "  'path': '/playlists/47386fb1-eaa4-11ed-af23-c46516f58b27'},\n",
       " {'objectID': 'def30719-e668-11ed-9049-010101010000',\n",
       "  'objectType': 'Playlist',\n",
       "  'title': 'The Matrix Resurrections – Official Trailer 2',\n",
       "  'path': '/playlists/def30719-e668-11ed-9049-010101010000'},\n",
       " {'objectID': 'a51d8059-e6ab-11ed-94c5-c46516f58b27',\n",
       "  'objectType': 'Playlist',\n",
       "  'title': 'The Flash - Official Trailer 2',\n",
       "  'path': '/playlists/a51d8059-e6ab-11ed-94c5-c46516f58b27'},\n",
       " {'objectID': 'e80c3445-ec11-11ed-8516-d43b04bfac83',\n",
       "  'objectType': 'Playlist',\n",
       "  'title': 'https://www.youtube.com/watch?v=786VV6f_abM',\n",
       "  'path': '/playlists/e80c3445-ec11-11ed-8516-d43b04bfac83'},\n",
       " {'objectID': 'f259d935-ec11-11ed-aa4a-d43b04bfac83',\n",
       "  'objectType': 'Playlist',\n",
       "  'title': '#1 Try REACTJS Tutorial - Getting Started',\n",
       "  'path': '/playlists/f259d935-ec11-11ed-aa4a-d43b04bfac83'}]"
      ]
     },
     "execution_count": 39,
     "metadata": {},
     "output_type": "execute_result"
    }
   ],
   "source": [
    "playlist_q = [dict(obj) for obj in Video.objects.all()]\n",
    "playlist_dataset = [PlaylistIndexSchema(**obj).dict() for obj in playlist_q]\n",
    "playlist_dataset"
   ]
  },
  {
   "cell_type": "code",
   "execution_count": null,
   "id": "c714d357",
   "metadata": {},
   "outputs": [],
   "source": []
  }
 ],
 "metadata": {
  "kernelspec": {
   "display_name": "Python 3 (ipykernel)",
   "language": "python",
   "name": "python3"
  },
  "language_info": {
   "codemirror_mode": {
    "name": "ipython",
    "version": 3
   },
   "file_extension": ".py",
   "mimetype": "text/x-python",
   "name": "python",
   "nbconvert_exporter": "python",
   "pygments_lexer": "ipython3",
   "version": "3.11.1"
  }
 },
 "nbformat": 4,
 "nbformat_minor": 5
}
