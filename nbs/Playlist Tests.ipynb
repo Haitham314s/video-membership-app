{
 "cells": [
  {
   "cell_type": "code",
   "execution_count": 1,
   "id": "32b7f652",
   "metadata": {},
   "outputs": [
    {
     "name": "stdout",
     "output_type": "stream",
     "text": [
      "C:\\Users\\hp\\dev\\video-membership-app\n"
     ]
    }
   ],
   "source": [
    "%cd .."
   ]
  },
  {
   "cell_type": "code",
   "execution_count": 2,
   "id": "7df3d231",
   "metadata": {},
   "outputs": [],
   "source": [
    "from app import db\n",
    "from app.config import get_settings\n",
    "from app.playlist.models import Playlist\n",
    "from app.videos.models import Video\n",
    "from cassandra.cqlengine.management import sync_table"
   ]
  },
  {
   "cell_type": "code",
   "execution_count": 3,
   "id": "2ea8bb03",
   "metadata": {},
   "outputs": [],
   "source": [
    "session = db.get_session()\n",
    "settings = get_settings()\n",
    "allow_table_drop = True"
   ]
  },
  {
   "cell_type": "code",
   "execution_count": 4,
   "id": "c938adb7",
   "metadata": {},
   "outputs": [],
   "source": [
    "if allow_table_drop:\n",
    "    session.execute(f\"DROP TABLE IF EXISTS {settings.keyspace}.playlist\")"
   ]
  },
  {
   "cell_type": "code",
   "execution_count": 5,
   "id": "93370f34",
   "metadata": {},
   "outputs": [],
   "source": [
    "sync_table(Playlist)\n",
    "sync_table(Video)"
   ]
  },
  {
   "cell_type": "code",
   "execution_count": 6,
   "id": "d5e0abb1",
   "metadata": {},
   "outputs": [
    {
     "data": {
      "text/plain": [
       "Playlist(db_id=UUID('31780f9f-e744-11ed-91fb-c46516f58b27'), user_id=None, updated=datetime.datetime(2023, 4, 30, 10, 45, 49, 315670, tzinfo=datetime.timezone.utc), host_ids=[], title='Hello Video')"
      ]
     },
     "execution_count": 6,
     "metadata": {},
     "output_type": "execute_result"
    }
   ],
   "source": [
    "obj = Playlist.objects.create(title=\"Hello Video\")\n",
    "obj"
   ]
  },
  {
   "cell_type": "code",
   "execution_count": 7,
   "id": "fef2df02",
   "metadata": {},
   "outputs": [
    {
     "data": {
      "text/plain": [
       "Playlist(db_id=UUID('31780f9f-e744-11ed-91fb-c46516f58b27'), user_id=None, updated=datetime.datetime(2023, 4, 30, 10, 45, 59, 281531), host_ids=[], title='Hello Video')"
      ]
     },
     "execution_count": 7,
     "metadata": {},
     "output_type": "execute_result"
    }
   ],
   "source": [
    "from datetime import datetime\n",
    "\n",
    "obj.updated = datetime.utcnow()\n",
    "obj.save()"
   ]
  },
  {
   "cell_type": "code",
   "execution_count": 8,
   "id": "93d03dbd",
   "metadata": {},
   "outputs": [
    {
     "data": {
      "text/plain": [
       "Playlist(db_id=UUID('31780f9f-e744-11ed-91fb-c46516f58b27'), user_id=None, updated=datetime.datetime(2023, 4, 30, 10, 45, 59, 281531), host_ids=[], title='Hello Video')"
      ]
     },
     "execution_count": 8,
     "metadata": {},
     "output_type": "execute_result"
    }
   ],
   "source": [
    "obj.host_id = ['some new list']\n",
    "obj.save()\n",
    "obj"
   ]
  },
  {
   "cell_type": "code",
   "execution_count": 14,
   "id": "e3fea785",
   "metadata": {},
   "outputs": [
    {
     "data": {
      "text/plain": [
       "[Playlist(db_id=UUID('31780f9f-e744-11ed-91fb-c46516f58b27'), user_id=None, updated=datetime.datetime(2023, 4, 30, 10, 45, 59, 491000), host_ids=['X3qUfOB3x8Q', 'RDE6Uz73A7g', '9ix7TUGVYIo', 'itnqEauWQZM', 'nNpvWBuTfrc'], title='Hello Video')]"
      ]
     },
     "execution_count": 14,
     "metadata": {},
     "output_type": "execute_result"
    }
   ],
   "source": [
    "list(Playlist.objects.all())"
   ]
  },
  {
   "cell_type": "code",
   "execution_count": 9,
   "id": "6a9b309b",
   "metadata": {},
   "outputs": [
    {
     "data": {
      "text/plain": [
       "[]"
      ]
     },
     "execution_count": 9,
     "metadata": {},
     "output_type": "execute_result"
    }
   ],
   "source": [
    "video_q = list(Video.objects.filter(host_id__in=obj.host_ids))\n",
    "video_q"
   ]
  },
  {
   "cell_type": "code",
   "execution_count": 10,
   "id": "de8d6e29",
   "metadata": {},
   "outputs": [
    {
     "data": {
      "text/plain": [
       "['X3qUfOB3x8Q', 'RDE6Uz73A7g', '9ix7TUGVYIo', 'itnqEauWQZM', 'nNpvWBuTfrc']"
      ]
     },
     "execution_count": 10,
     "metadata": {},
     "output_type": "execute_result"
    }
   ],
   "source": [
    "host_ids = list(Video.objects.all().limit(5).values_list(\"host_id\", flat=True))\n",
    "host_ids"
   ]
  },
  {
   "cell_type": "code",
   "execution_count": 11,
   "id": "094b43c6",
   "metadata": {},
   "outputs": [
    {
     "data": {
      "text/plain": [
       "True"
      ]
     },
     "execution_count": 11,
     "metadata": {},
     "output_type": "execute_result"
    }
   ],
   "source": [
    "obj.add_host_ids(host_ids=host_ids)"
   ]
  },
  {
   "cell_type": "code",
   "execution_count": 12,
   "id": "89db7b80",
   "metadata": {},
   "outputs": [
    {
     "data": {
      "text/plain": [
       "[Video(title=None, host_id=9ix7TUGVYIo, host_service=youtube),\n",
       " Video(title=The Hunger Games: The Ballad of Songbirds & Snakes (2023) Official Trailer, host_id=RDE6Uz73A7g, host_service=youtube),\n",
       " Video(title=VS Code Day 2023, host_id=X3qUfOB3x8Q, host_service=youtube),\n",
       " Video(title=Transformers: Rise of the Beasts | Official Trailer (2023 Movie), host_id=itnqEauWQZM, host_service=youtube),\n",
       " Video(title=None, host_id=nNpvWBuTfrc, host_service=youtube)]"
      ]
     },
     "execution_count": 12,
     "metadata": {},
     "output_type": "execute_result"
    }
   ],
   "source": [
    "video_q = list(Video.objects.filter(host_id__in=obj.host_ids))\n",
    "video_q"
   ]
  },
  {
   "cell_type": "code",
   "execution_count": 15,
   "id": "b60995fc",
   "metadata": {},
   "outputs": [
    {
     "data": {
      "text/plain": [
       "[Video(title=VS Code Day 2023, host_id=X3qUfOB3x8Q, host_service=youtube),\n",
       " Video(title=The Hunger Games: The Ballad of Songbirds & Snakes (2023) Official Trailer, host_id=RDE6Uz73A7g, host_service=youtube),\n",
       " Video(title=None, host_id=9ix7TUGVYIo, host_service=youtube),\n",
       " Video(title=Transformers: Rise of the Beasts | Official Trailer (2023 Movie), host_id=itnqEauWQZM, host_service=youtube),\n",
       " Video(title=None, host_id=nNpvWBuTfrc, host_service=youtube)]"
      ]
     },
     "execution_count": 15,
     "metadata": {},
     "output_type": "execute_result"
    }
   ],
   "source": [
    "obj.get_videos()"
   ]
  },
  {
   "cell_type": "code",
   "execution_count": null,
   "id": "8dbb739e",
   "metadata": {},
   "outputs": [],
   "source": []
  }
 ],
 "metadata": {
  "kernelspec": {
   "display_name": "Python 3 (ipykernel)",
   "language": "python",
   "name": "python3"
  },
  "language_info": {
   "codemirror_mode": {
    "name": "ipython",
    "version": 3
   },
   "file_extension": ".py",
   "mimetype": "text/x-python",
   "name": "python",
   "nbconvert_exporter": "python",
   "pygments_lexer": "ipython3",
   "version": "3.11.1"
  }
 },
 "nbformat": 4,
 "nbformat_minor": 5
}
