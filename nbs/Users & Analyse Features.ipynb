{
 "cells": [
  {
   "cell_type": "code",
   "execution_count": 1,
   "id": "32b7f652",
   "metadata": {},
   "outputs": [
    {
     "name": "stdout",
     "output_type": "stream",
     "text": [
      "C:\\Users\\hp\\dev\\video-membership-app\n"
     ]
    }
   ],
   "source": [
    "%cd .."
   ]
  },
  {
   "cell_type": "code",
   "execution_count": 3,
   "id": "7df3d231",
   "metadata": {},
   "outputs": [],
   "source": [
    "from app import db\n",
    "from app.users.models import User\n",
    "from cassandra.cqlengine.management import sync_table"
   ]
  },
  {
   "cell_type": "code",
   "execution_count": 5,
   "id": "2ea8bb03",
   "metadata": {},
   "outputs": [],
   "source": [
    "db.get_session()\n",
    "sync_table(User)"
   ]
  },
  {
   "cell_type": "code",
   "execution_count": 9,
   "id": "82d43396",
   "metadata": {},
   "outputs": [
    {
     "ename": "Exception",
     "evalue": "User already has an account",
     "output_type": "error",
     "traceback": [
      "\u001b[1;31m--------------------------------------------------------\u001b[0m",
      "\u001b[1;31mException\u001b[0m              Traceback (most recent call last)",
      "Cell \u001b[1;32mIn[9], line 1\u001b[0m\n\u001b[1;32m----> 1\u001b[0m \u001b[43mUser\u001b[49m\u001b[38;5;241;43m.\u001b[39;49m\u001b[43mcreate_user\u001b[49m\u001b[43m(\u001b[49m\u001b[38;5;124;43m\"\u001b[39;49m\u001b[38;5;124;43mhello@gmail.com\u001b[39;49m\u001b[38;5;124;43m\"\u001b[39;49m\u001b[43m,\u001b[49m\u001b[43m \u001b[49m\u001b[38;5;124;43m\"\u001b[39;49m\u001b[38;5;124;43m1234567890\u001b[39;49m\u001b[38;5;124;43m\"\u001b[39;49m\u001b[43m)\u001b[49m\n",
      "File \u001b[1;32m~\\dev\\video-membership-app\\app\\users\\models.py:40\u001b[0m, in \u001b[0;36mUser.create_user\u001b[1;34m(email, password)\u001b[0m\n\u001b[0;32m     38\u001b[0m q \u001b[38;5;241m=\u001b[39m User\u001b[38;5;241m.\u001b[39mobjects\u001b[38;5;241m.\u001b[39mfilter(email\u001b[38;5;241m=\u001b[39memail)\n\u001b[0;32m     39\u001b[0m \u001b[38;5;28;01mif\u001b[39;00m q\u001b[38;5;241m.\u001b[39mcount() \u001b[38;5;241m!=\u001b[39m \u001b[38;5;241m0\u001b[39m:\n\u001b[1;32m---> 40\u001b[0m     \u001b[38;5;28;01mraise\u001b[39;00m \u001b[38;5;167;01mException\u001b[39;00m(\u001b[38;5;124m\"\u001b[39m\u001b[38;5;124mUser already has an account\u001b[39m\u001b[38;5;124m\"\u001b[39m)\n\u001b[0;32m     42\u001b[0m valid, msg, email \u001b[38;5;241m=\u001b[39m validators\u001b[38;5;241m.\u001b[39m_validate_email(email)\n\u001b[0;32m     43\u001b[0m \u001b[38;5;28;01mif\u001b[39;00m \u001b[38;5;129;01mnot\u001b[39;00m valid:\n",
      "\u001b[1;31mException\u001b[0m: User already has an account"
     ]
    }
   ],
   "source": [
    "User.create_user(\"hello@gmail.com\", \"1234567890\")"
   ]
  },
  {
   "cell_type": "code",
   "execution_count": 10,
   "id": "4e6b55c5",
   "metadata": {},
   "outputs": [],
   "source": [
    "user_a = User.create_user(\"user1@gmail.com\", \"123456\")"
   ]
  },
  {
   "cell_type": "code",
   "execution_count": 11,
   "id": "ea26bbee",
   "metadata": {},
   "outputs": [
    {
     "data": {
      "text/plain": [
       "'$argon2id$v=19$m=65536,t=3,p=4$AHSTuhhgSZoyMCp85rOhfQ$8Frp2hDVEXg7Vuf2UhOiRmYOk8u5hlL8J6RndxzxM4c'"
      ]
     },
     "execution_count": 11,
     "metadata": {},
     "output_type": "execute_result"
    }
   ],
   "source": [
    "user_a.password"
   ]
  },
  {
   "cell_type": "code",
   "execution_count": 13,
   "id": "bb8ab1b1",
   "metadata": {},
   "outputs": [
    {
     "data": {
      "text/plain": [
       "False"
      ]
     },
     "execution_count": 13,
     "metadata": {},
     "output_type": "execute_result"
    }
   ],
   "source": [
    "user_a.verify_password(\"123456789\")"
   ]
  },
  {
   "cell_type": "code",
   "execution_count": 14,
   "id": "d99b3399",
   "metadata": {},
   "outputs": [
    {
     "data": {
      "text/plain": [
       "True"
      ]
     },
     "execution_count": 14,
     "metadata": {},
     "output_type": "execute_result"
    }
   ],
   "source": [
    "user_a.verify_password(\"123456\")"
   ]
  },
  {
   "cell_type": "code",
   "execution_count": null,
   "id": "ece5eb20",
   "metadata": {},
   "outputs": [],
   "source": []
  }
 ],
 "metadata": {
  "kernelspec": {
   "display_name": "Python 3 (ipykernel)",
   "language": "python",
   "name": "python3"
  },
  "language_info": {
   "codemirror_mode": {
    "name": "ipython",
    "version": 3
   },
   "file_extension": ".py",
   "mimetype": "text/x-python",
   "name": "python",
   "nbconvert_exporter": "python",
   "pygments_lexer": "ipython3",
   "version": "3.11.1"
  }
 },
 "nbformat": 4,
 "nbformat_minor": 5
}
