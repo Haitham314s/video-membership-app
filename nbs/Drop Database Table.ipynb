{
 "cells": [
  {
   "cell_type": "code",
   "execution_count": 1,
   "id": "32b7f652",
   "metadata": {},
   "outputs": [
    {
     "name": "stdout",
     "output_type": "stream",
     "text": [
      "C:\\Users\\hp\\dev\\video-membership-app\n"
     ]
    }
   ],
   "source": [
    "%cd .."
   ]
  },
  {
   "cell_type": "code",
   "execution_count": 12,
   "id": "7df3d231",
   "metadata": {},
   "outputs": [],
   "source": [
    "from app import db, config\n",
    "from app.watch_events.models import WatchEvent"
   ]
  },
  {
   "cell_type": "code",
   "execution_count": 3,
   "id": "2ea8bb03",
   "metadata": {},
   "outputs": [],
   "source": [
    "session = db.get_session()"
   ]
  },
  {
   "cell_type": "code",
   "execution_count": 4,
   "id": "07577f1d",
   "metadata": {},
   "outputs": [],
   "source": [
    "settings = config.get_settings()"
   ]
  },
  {
   "cell_type": "code",
   "execution_count": 5,
   "id": "c0233766",
   "metadata": {},
   "outputs": [],
   "source": [
    "keyspace = settings.keyspace"
   ]
  },
  {
   "cell_type": "code",
   "execution_count": 15,
   "id": "77464035",
   "metadata": {},
   "outputs": [
    {
     "name": "stdout",
     "output_type": "stream",
     "text": [
      "SELECT * FROM video_membership_app.watch_event LIMIT 10000 \n",
      "\n",
      "{'host_id': 'RDE6Uz73A7g', 'event_id': UUID('f7be820e-e733-11ed-92ba-c46516f58b27'), 'user_id': UUID('fd5b5178-e0e1-11ed-8672-c46516f58b27'), 'complete': False, 'duration': 500.0, 'end_time': 74.271287, 'path': None, 'start_time': 0.0}\n",
      "{'host_id': 'RDE6Uz73A7g', 'event_id': UUID('f7537546-e733-11ed-aa32-c46516f58b27'), 'user_id': UUID('fd5b5178-e0e1-11ed-8672-c46516f58b27'), 'complete': False, 'duration': 500.0, 'end_time': 73.74663020833333, 'path': None, 'start_time': 0.0}\n",
      "{'host_id': 'itnqEauWQZM', 'event_id': UUID('07eaaee0-e734-11ed-bf15-c46516f58b27'), 'user_id': UUID('fd5b5178-e0e1-11ed-8672-c46516f58b27'), 'complete': False, 'duration': 500.0, 'end_time': 77.421945, 'path': None, 'start_time': 0.0}\n",
      "{'host_id': 'itnqEauWQZM', 'event_id': UUID('06c50ae1-e734-11ed-a074-c46516f58b27'), 'user_id': UUID('fd5b5178-e0e1-11ed-8672-c46516f58b27'), 'complete': False, 'duration': 500.0, 'end_time': 76.076, 'path': None, 'start_time': 0.0}\n"
     ]
    }
   ],
   "source": [
    "q = WatchEvent.objects.all()\n",
    "query_str = str(q._select_query())\n",
    "print(f\"{query_str} \\n\")\n",
    "q_r = session.execute(query_str)\n",
    "for item in q_r.all():\n",
    "    print(item)"
   ]
  },
  {
   "cell_type": "code",
   "execution_count": 6,
   "id": "d6b2af60",
   "metadata": {},
   "outputs": [],
   "source": [
    "model_name = \"watch_event\""
   ]
  },
  {
   "cell_type": "code",
   "execution_count": 7,
   "id": "4a1d852f",
   "metadata": {},
   "outputs": [
    {
     "data": {
      "text/plain": [
       "'DROP TABLE IF EXISTS video_membership_app.watch_event'"
      ]
     },
     "execution_count": 7,
     "metadata": {},
     "output_type": "execute_result"
    }
   ],
   "source": [
    "cmd = f\"DROP TABLE IF EXISTS {keyspace}.{model_name}\"\n",
    "cmd"
   ]
  },
  {
   "cell_type": "code",
   "execution_count": 9,
   "id": "aad3c9e7",
   "metadata": {},
   "outputs": [],
   "source": [
    "r = session.execute(cmd)"
   ]
  },
  {
   "cell_type": "code",
   "execution_count": 10,
   "id": "e7aa6537",
   "metadata": {
    "scrolled": true
   },
   "outputs": [
    {
     "data": {
      "text/plain": [
       "['__bool__',\n",
       " '__class__',\n",
       " '__delattr__',\n",
       " '__dict__',\n",
       " '__dir__',\n",
       " '__doc__',\n",
       " '__eq__',\n",
       " '__format__',\n",
       " '__ge__',\n",
       " '__getattribute__',\n",
       " '__getitem__',\n",
       " '__getstate__',\n",
       " '__gt__',\n",
       " '__hash__',\n",
       " '__init__',\n",
       " '__init_subclass__',\n",
       " '__iter__',\n",
       " '__le__',\n",
       " '__lt__',\n",
       " '__module__',\n",
       " '__ne__',\n",
       " '__new__',\n",
       " '__next__',\n",
       " '__nonzero__',\n",
       " '__reduce__',\n",
       " '__reduce_ex__',\n",
       " '__repr__',\n",
       " '__setattr__',\n",
       " '__sizeof__',\n",
       " '__str__',\n",
       " '__subclasshook__',\n",
       " '__weakref__',\n",
       " '_current_rows',\n",
       " '_enter_list_mode',\n",
       " '_fetch_all',\n",
       " '_list_mode',\n",
       " '_page_iter',\n",
       " '_set_current_rows',\n",
       " 'all',\n",
       " 'cancel_continuous_paging',\n",
       " 'column_names',\n",
       " 'column_types',\n",
       " 'current_rows',\n",
       " 'fetch_next_page',\n",
       " 'get_all_query_traces',\n",
       " 'get_query_trace',\n",
       " 'has_more_pages',\n",
       " 'next',\n",
       " 'one',\n",
       " 'paging_state',\n",
       " 'response_future',\n",
       " 'was_applied']"
      ]
     },
     "execution_count": 10,
     "metadata": {},
     "output_type": "execute_result"
    }
   ],
   "source": [
    "dir(r)"
   ]
  },
  {
   "cell_type": "code",
   "execution_count": 11,
   "id": "66158ebe",
   "metadata": {},
   "outputs": [],
   "source": [
    "for item in r.all():\n",
    "    print(item)"
   ]
  },
  {
   "cell_type": "code",
   "execution_count": null,
   "id": "85f96e44",
   "metadata": {},
   "outputs": [],
   "source": []
  }
 ],
 "metadata": {
  "kernelspec": {
   "display_name": "Python 3 (ipykernel)",
   "language": "python",
   "name": "python3"
  },
  "language_info": {
   "codemirror_mode": {
    "name": "ipython",
    "version": 3
   },
   "file_extension": ".py",
   "mimetype": "text/x-python",
   "name": "python",
   "nbconvert_exporter": "python",
   "pygments_lexer": "ipython3",
   "version": "3.11.1"
  }
 },
 "nbformat": 4,
 "nbformat_minor": 5
}
